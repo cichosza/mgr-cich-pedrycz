{
 "cells": [
  {
   "cell_type": "markdown",
   "id": "51269003-a250-432d-950a-b2123bf83bcd",
   "metadata": {},
   "source": [
    "Notatnik ten zawiera charakterystykę próby"
   ]
  },
  {
   "cell_type": "code",
   "execution_count": 1,
   "id": "5248cf66-5b16-425f-8bb5-3100718fe1cf",
   "metadata": {},
   "outputs": [],
   "source": [
    "import pandas as pd\n",
    "import matplotlib.pyplot as plt"
   ]
  },
  {
   "cell_type": "markdown",
   "id": "1ab31a1d-b8cb-4d67-9f93-695929c28f30",
   "metadata": {},
   "source": [
    "# Wczytanie danych"
   ]
  },
  {
   "cell_type": "code",
   "execution_count": 2,
   "id": "29259593-e379-49ac-90b3-4fd466796e83",
   "metadata": {},
   "outputs": [
    {
     "data": {
      "text/html": [
       "<div>\n",
       "<style scoped>\n",
       "    .dataframe tbody tr th:only-of-type {\n",
       "        vertical-align: middle;\n",
       "    }\n",
       "\n",
       "    .dataframe tbody tr th {\n",
       "        vertical-align: top;\n",
       "    }\n",
       "\n",
       "    .dataframe thead th {\n",
       "        text-align: right;\n",
       "    }\n",
       "</style>\n",
       "<table border=\"1\" class=\"dataframe\">\n",
       "  <thead>\n",
       "    <tr style=\"text-align: right;\">\n",
       "      <th></th>\n",
       "      <th>ID</th>\n",
       "      <th>plec</th>\n",
       "      <th>wiek</th>\n",
       "      <th>miejsce_zamieszaknia</th>\n",
       "      <th>znajomosc_sztuki</th>\n",
       "      <th>sytuacja_materialna</th>\n",
       "      <th>grupa</th>\n",
       "      <th>obraz1_gust</th>\n",
       "      <th>obraz1_przeslanie</th>\n",
       "      <th>obraz1_piekno</th>\n",
       "      <th>...</th>\n",
       "      <th>obraz6_wartosc</th>\n",
       "      <th>obraz7_gust</th>\n",
       "      <th>obraz7_przeslanie</th>\n",
       "      <th>obraz7_piekno</th>\n",
       "      <th>obraz7_wartosc</th>\n",
       "      <th>obraz8_gust</th>\n",
       "      <th>obraz8_przeslanie</th>\n",
       "      <th>obraz8_piekno</th>\n",
       "      <th>obraz8_wartosc</th>\n",
       "      <th>uwagi</th>\n",
       "    </tr>\n",
       "  </thead>\n",
       "  <tbody>\n",
       "    <tr>\n",
       "      <th>0</th>\n",
       "      <td>1.0</td>\n",
       "      <td>m</td>\n",
       "      <td>23.0</td>\n",
       "      <td>mieszkanie_wynajmowane</td>\n",
       "      <td>ograniczona</td>\n",
       "      <td>2.0</td>\n",
       "      <td>k</td>\n",
       "      <td>4.0</td>\n",
       "      <td>3.0</td>\n",
       "      <td>4.0</td>\n",
       "      <td>...</td>\n",
       "      <td>3.0</td>\n",
       "      <td>5.0</td>\n",
       "      <td>3.0</td>\n",
       "      <td>4.0</td>\n",
       "      <td>4.0</td>\n",
       "      <td>4.0</td>\n",
       "      <td>2.0</td>\n",
       "      <td>4.0</td>\n",
       "      <td>3.0</td>\n",
       "      <td>OUTED be NICHT WORK</td>\n",
       "    </tr>\n",
       "    <tr>\n",
       "      <th>1</th>\n",
       "      <td>2.0</td>\n",
       "      <td>m</td>\n",
       "      <td>23.0</td>\n",
       "      <td>mieszkanie_wynajmowane</td>\n",
       "      <td>brak</td>\n",
       "      <td>2.0</td>\n",
       "      <td>k</td>\n",
       "      <td>3.0</td>\n",
       "      <td>1.0</td>\n",
       "      <td>4.0</td>\n",
       "      <td>...</td>\n",
       "      <td>2.0</td>\n",
       "      <td>2.0</td>\n",
       "      <td>1.0</td>\n",
       "      <td>3.0</td>\n",
       "      <td>4.0</td>\n",
       "      <td>4.0</td>\n",
       "      <td>4.0</td>\n",
       "      <td>5.0</td>\n",
       "      <td>5.0</td>\n",
       "      <td>NaN</td>\n",
       "    </tr>\n",
       "    <tr>\n",
       "      <th>2</th>\n",
       "      <td>3.0</td>\n",
       "      <td>k</td>\n",
       "      <td>24.0</td>\n",
       "      <td>mieszkanie_wynajmowane</td>\n",
       "      <td>ograniczona</td>\n",
       "      <td>2.0</td>\n",
       "      <td>k</td>\n",
       "      <td>4.0</td>\n",
       "      <td>3.0</td>\n",
       "      <td>4.0</td>\n",
       "      <td>...</td>\n",
       "      <td>2.0</td>\n",
       "      <td>5.0</td>\n",
       "      <td>4.0</td>\n",
       "      <td>5.0</td>\n",
       "      <td>3.0</td>\n",
       "      <td>4.0</td>\n",
       "      <td>4.0</td>\n",
       "      <td>4.0</td>\n",
       "      <td>4.0</td>\n",
       "      <td>NaN</td>\n",
       "    </tr>\n",
       "    <tr>\n",
       "      <th>3</th>\n",
       "      <td>NaN</td>\n",
       "      <td>NaN</td>\n",
       "      <td>NaN</td>\n",
       "      <td>NaN</td>\n",
       "      <td>NaN</td>\n",
       "      <td>NaN</td>\n",
       "      <td>NaN</td>\n",
       "      <td>NaN</td>\n",
       "      <td>NaN</td>\n",
       "      <td>NaN</td>\n",
       "      <td>...</td>\n",
       "      <td>NaN</td>\n",
       "      <td>NaN</td>\n",
       "      <td>NaN</td>\n",
       "      <td>NaN</td>\n",
       "      <td>NaN</td>\n",
       "      <td>NaN</td>\n",
       "      <td>NaN</td>\n",
       "      <td>NaN</td>\n",
       "      <td>NaN</td>\n",
       "      <td>NaN</td>\n",
       "    </tr>\n",
       "    <tr>\n",
       "      <th>4</th>\n",
       "      <td>5.0</td>\n",
       "      <td>k</td>\n",
       "      <td>24.0</td>\n",
       "      <td>mieszkanie_wlasne</td>\n",
       "      <td>ograniczona</td>\n",
       "      <td>3.0</td>\n",
       "      <td>k</td>\n",
       "      <td>3.0</td>\n",
       "      <td>1.0</td>\n",
       "      <td>3.0</td>\n",
       "      <td>...</td>\n",
       "      <td>2.0</td>\n",
       "      <td>4.0</td>\n",
       "      <td>2.0</td>\n",
       "      <td>4.0</td>\n",
       "      <td>3.0</td>\n",
       "      <td>5.0</td>\n",
       "      <td>4.0</td>\n",
       "      <td>4.0</td>\n",
       "      <td>4.0</td>\n",
       "      <td>NaN</td>\n",
       "    </tr>\n",
       "  </tbody>\n",
       "</table>\n",
       "<p>5 rows × 40 columns</p>\n",
       "</div>"
      ],
      "text/plain": [
       "    ID plec  wiek    miejsce_zamieszaknia znajomosc_sztuki  \\\n",
       "0  1.0    m  23.0  mieszkanie_wynajmowane      ograniczona   \n",
       "1  2.0    m  23.0  mieszkanie_wynajmowane             brak   \n",
       "2  3.0    k  24.0  mieszkanie_wynajmowane      ograniczona   \n",
       "3  NaN  NaN   NaN                     NaN              NaN   \n",
       "4  5.0    k  24.0       mieszkanie_wlasne      ograniczona   \n",
       "\n",
       "   sytuacja_materialna grupa  obraz1_gust  obraz1_przeslanie  obraz1_piekno  \\\n",
       "0                  2.0     k          4.0                3.0            4.0   \n",
       "1                  2.0     k          3.0                1.0            4.0   \n",
       "2                  2.0     k          4.0                3.0            4.0   \n",
       "3                  NaN   NaN          NaN                NaN            NaN   \n",
       "4                  3.0     k          3.0                1.0            3.0   \n",
       "\n",
       "   ...  obraz6_wartosc  obraz7_gust  obraz7_przeslanie  obraz7_piekno  \\\n",
       "0  ...             3.0          5.0                3.0            4.0   \n",
       "1  ...             2.0          2.0                1.0            3.0   \n",
       "2  ...             2.0          5.0                4.0            5.0   \n",
       "3  ...             NaN          NaN                NaN            NaN   \n",
       "4  ...             2.0          4.0                2.0            4.0   \n",
       "\n",
       "   obraz7_wartosc  obraz8_gust  obraz8_przeslanie  obraz8_piekno  \\\n",
       "0             4.0          4.0                2.0            4.0   \n",
       "1             4.0          4.0                4.0            5.0   \n",
       "2             3.0          4.0                4.0            4.0   \n",
       "3             NaN          NaN                NaN            NaN   \n",
       "4             3.0          5.0                4.0            4.0   \n",
       "\n",
       "   obraz8_wartosc                uwagi  \n",
       "0             3.0  OUTED be NICHT WORK  \n",
       "1             5.0                  NaN  \n",
       "2             4.0                  NaN  \n",
       "3             NaN                  NaN  \n",
       "4             4.0                  NaN  \n",
       "\n",
       "[5 rows x 40 columns]"
      ]
     },
     "execution_count": 2,
     "metadata": {},
     "output_type": "execute_result"
    }
   ],
   "source": [
    "df = pd.read_csv(\"MGR/Kwestionariusz_ocena.csv\")\n",
    "df.head()"
   ]
  },
  {
   "cell_type": "code",
   "execution_count": 3,
   "id": "204c317b-6314-48bb-8b82-d340cdd58b97",
   "metadata": {},
   "outputs": [
    {
     "data": {
      "text/plain": [
       "uwagi    11\n",
       "dtype: int64"
      ]
     },
     "execution_count": 3,
     "metadata": {},
     "output_type": "execute_result"
    }
   ],
   "source": [
    "df = df.dropna(how='all')\n",
    "df = df[df.ID != 1]\n",
    "df = df[df.ID != 29]\n",
    "\n",
    "missing = df.isnull().sum()\n",
    "missing[missing > 0]"
   ]
  },
  {
   "cell_type": "markdown",
   "id": "6e0fb80a-3cd5-4f79-b63f-795030c5d636",
   "metadata": {},
   "source": [
    "# Analiza"
   ]
  },
  {
   "cell_type": "code",
   "execution_count": 4,
   "id": "6df5c7d4-e859-49e7-ae31-5f04930994ed",
   "metadata": {},
   "outputs": [
    {
     "name": "stdout",
     "output_type": "stream",
     "text": [
      "Liczba uczestników: 24\n"
     ]
    }
   ],
   "source": [
    "#Liczebność\n",
    "n = len(df)\n",
    "print(f\"Liczba uczestników: {n}\")"
   ]
  },
  {
   "cell_type": "code",
   "execution_count": 5,
   "id": "d56bf70d-778c-40dc-8d27-97f73ceffb31",
   "metadata": {},
   "outputs": [
    {
     "name": "stdout",
     "output_type": "stream",
     "text": [
      "grupa\n",
      "k    12\n",
      "e    12\n",
      "Name: count, dtype: int64\n"
     ]
    }
   ],
   "source": [
    "#liczebność grup\n",
    "print(df['grupa'].value_counts())"
   ]
  },
  {
   "cell_type": "code",
   "execution_count": 6,
   "id": "043ac034-91fa-4c68-8266-f1aa645d868a",
   "metadata": {},
   "outputs": [
    {
     "data": {
      "image/png": "[encoded data removed]",
      "text/plain": [
       "<Figure size 640x480 with 1 Axes>"
      ]
     },
     "metadata": {},
     "output_type": "display_data"
    }
   ],
   "source": [
    "df['grupa'].value_counts().plot(kind='bar', title='Liczebność grupy')\n",
    "plt.xlabel('Grupa')\n",
    "plt.ylabel('Liczba uczestników')\n",
    "plt.show()"
   ]
  },
  {
   "cell_type": "code",
   "execution_count": 7,
   "id": "78b1b48c-1499-4c56-b111-d9a1ae6d571b",
   "metadata": {},
   "outputs": [
    {
     "name": "stdout",
     "output_type": "stream",
     "text": [
      "plec\n",
      "m    12\n",
      "k    12\n",
      "Name: count, dtype: int64\n"
     ]
    }
   ],
   "source": [
    "#rozkład płci\n",
    "print(df['plec'].value_counts())"
   ]
  },
  {
   "cell_type": "code",
   "execution_count": 8,
   "id": "f06e65e7-11d0-4ed6-a119-61072a948696",
   "metadata": {},
   "outputs": [
    {
     "data": {
      "image/png": "[encoded data removed]",
      "text/plain": [
       "<Figure size 640x480 with 1 Axes>"
      ]
     },
     "metadata": {},
     "output_type": "display_data"
    }
   ],
   "source": [
    "df['plec'].value_counts().plot(kind='bar', title='Płeć uczestników')\n",
    "plt.xlabel('Płeć')\n",
    "plt.ylabel('Liczba')\n",
    "plt.show()"
   ]
  },
  {
   "cell_type": "code",
   "execution_count": 9,
   "id": "5aaf9233-166e-4cba-8e64-4f5fad08f964",
   "metadata": {},
   "outputs": [
    {
     "name": "stdout",
     "output_type": "stream",
     "text": [
      "grupa  plec\n",
      "e      k       7\n",
      "       m       5\n",
      "k      m       7\n",
      "       k       5\n",
      "Name: count, dtype: int64\n"
     ]
    }
   ],
   "source": [
    "print(df.groupby('grupa')['plec'].value_counts())"
   ]
  },
  {
   "cell_type": "code",
   "execution_count": 10,
   "id": "abf7833d-81f6-46ac-920b-e2d46be33663",
   "metadata": {},
   "outputs": [
    {
     "data": {
      "image/png": "[encoded data removed]",
      "text/plain": [
       "<Figure size 640x480 with 1 Axes>"
      ]
     },
     "metadata": {},
     "output_type": "display_data"
    }
   ],
   "source": [
    "pd.crosstab(df['grupa'], df['plec']).plot(kind='bar', stacked=True)\n",
    "plt.title('Płeć w grupach')\n",
    "plt.xlabel('Grupa')\n",
    "plt.ylabel('Liczba')\n",
    "plt.show()"
   ]
  },
  {
   "cell_type": "code",
   "execution_count": 11,
   "id": "e2fe7873-a391-42f0-ab88-4ad7d0fab71f",
   "metadata": {
    "scrolled": true
   },
   "outputs": [
    {
     "name": "stdout",
     "output_type": "stream",
     "text": [
      "znajomosc_sztuki\n",
      "ograniczona      15\n",
      "hobbystyczna      5\n",
      "brak              2\n",
      "profesjonalna     2\n",
      "Name: count, dtype: int64\n"
     ]
    }
   ],
   "source": [
    "#rozkład znajomości sztuki\n",
    "print(df['znajomosc_sztuki'].value_counts())"
   ]
  },
  {
   "cell_type": "code",
   "execution_count": 12,
   "id": "87fc27fc-b9b8-4b4d-ad7f-8e03ce54a586",
   "metadata": {},
   "outputs": [
    {
     "data": {
      "image/png": "[encoded data removed]",
      "text/plain": [
       "<Figure size 640x480 with 1 Axes>"
      ]
     },
     "metadata": {},
     "output_type": "display_data"
    }
   ],
   "source": [
    "df['znajomosc_sztuki'].value_counts().sort_index().plot(kind='bar', title='Znajomość sztuki')\n",
    "plt.xlabel('Znajomość sztuki (skala)')\n",
    "plt.ylabel('Liczba')\n",
    "plt.show()"
   ]
  },
  {
   "cell_type": "code",
   "execution_count": 13,
   "id": "6956f919-8262-43ef-837c-b8273d77abaf",
   "metadata": {},
   "outputs": [
    {
     "name": "stdout",
     "output_type": "stream",
     "text": [
      "sytuacja_materialna\n",
      "2.0    17\n",
      "3.0     3\n",
      "0.0     2\n",
      "1.0     2\n",
      "Name: count, dtype: int64\n"
     ]
    }
   ],
   "source": [
    "print(df['sytuacja_materialna'].value_counts())"
   ]
  },
  {
   "cell_type": "markdown",
   "id": "ec947e44-34c6-4512-aa59-358cee15d17a",
   "metadata": {},
   "source": [
    "Dekodowanie:\n",
    "- **1**: stać mnie na luksusowe rzeczy, także bardzo kosztowne\n",
    "- **2**: stać mnie na wszelkie wydatki, ale na zakup kosztownych rzeczy muszę pożyczyć/oszczędzać\n",
    "- **3**: nie stać mnie na zbędne wydatki\n",
    "- **4**: mam problem z opłaceniem podstawowych opłat\n",
    "- **0**: odmawiam odpowiedzi"
   ]
  },
  {
   "cell_type": "code",
   "execution_count": 14,
   "id": "3f35e74a-0d36-438c-850f-4a230e3bb977",
   "metadata": {},
   "outputs": [
    {
     "data": {
      "image/png": "[encoded data removed]",
      "text/plain": [
       "<Figure size 640x480 with 1 Axes>"
      ]
     },
     "metadata": {},
     "output_type": "display_data"
    }
   ],
   "source": [
    "df['sytuacja_materialna'].value_counts().sort_index().plot(kind='bar', title='Sytuacja materialna')\n",
    "plt.xlabel('Sytuacja materialna (skala)')\n",
    "plt.ylabel('Liczba')\n",
    "plt.show()"
   ]
  },
  {
   "cell_type": "code",
   "execution_count": 15,
   "id": "c1348043-9c9e-47f2-8402-d7fbf090bc41",
   "metadata": {
    "scrolled": true
   },
   "outputs": [
    {
     "name": "stdout",
     "output_type": "stream",
     "text": [
      "miejsce_zamieszaknia\n",
      "mieszkanie_wynajmowane    9\n",
      "dom_rodzinny              8\n",
      "mieszkanie_wlasne         3\n",
      "akademik                  3\n",
      "inne                      1\n",
      "Name: count, dtype: int64\n"
     ]
    }
   ],
   "source": [
    "print(df['miejsce_zamieszaknia'].value_counts())"
   ]
  },
  {
   "cell_type": "code",
   "execution_count": 16,
   "id": "8adfd849-b875-4cd1-926a-7170a86b7b27",
   "metadata": {},
   "outputs": [
    {
     "data": {
      "image/png": "[encoded data removed]",
      "text/plain": [
       "<Figure size 640x480 with 1 Axes>"
      ]
     },
     "metadata": {},
     "output_type": "display_data"
    }
   ],
   "source": [
    "df['miejsce_zamieszaknia'].value_counts().plot(kind='bar', title='Miejsce zamieszkania')\n",
    "plt.xlabel('Miejsce zamieszkania')\n",
    "plt.ylabel('Liczba')\n",
    "plt.show()"
   ]
  },
  {
   "cell_type": "code",
   "execution_count": 17,
   "id": "3766790c-3343-4218-a802-e26b24819485",
   "metadata": {
    "scrolled": true
   },
   "outputs": [
    {
     "data": {
      "text/html": [
       "<div>\n",
       "<style scoped>\n",
       "    .dataframe tbody tr th:only-of-type {\n",
       "        vertical-align: middle;\n",
       "    }\n",
       "\n",
       "    .dataframe tbody tr th {\n",
       "        vertical-align: top;\n",
       "    }\n",
       "\n",
       "    .dataframe thead th {\n",
       "        text-align: right;\n",
       "    }\n",
       "</style>\n",
       "<table border=\"1\" class=\"dataframe\">\n",
       "  <thead>\n",
       "    <tr style=\"text-align: right;\">\n",
       "      <th></th>\n",
       "      <th>Obraz</th>\n",
       "      <th>Kategoria</th>\n",
       "      <th>Średnia</th>\n",
       "      <th>SD</th>\n",
       "    </tr>\n",
       "  </thead>\n",
       "  <tbody>\n",
       "    <tr>\n",
       "      <th>0</th>\n",
       "      <td>1</td>\n",
       "      <td>gust</td>\n",
       "      <td>3.46</td>\n",
       "      <td>0.72</td>\n",
       "    </tr>\n",
       "    <tr>\n",
       "      <th>1</th>\n",
       "      <td>1</td>\n",
       "      <td>przeslanie</td>\n",
       "      <td>2.17</td>\n",
       "      <td>0.87</td>\n",
       "    </tr>\n",
       "    <tr>\n",
       "      <th>2</th>\n",
       "      <td>1</td>\n",
       "      <td>piekno</td>\n",
       "      <td>3.42</td>\n",
       "      <td>0.83</td>\n",
       "    </tr>\n",
       "    <tr>\n",
       "      <th>3</th>\n",
       "      <td>1</td>\n",
       "      <td>wartosc</td>\n",
       "      <td>2.88</td>\n",
       "      <td>0.95</td>\n",
       "    </tr>\n",
       "    <tr>\n",
       "      <th>4</th>\n",
       "      <td>2</td>\n",
       "      <td>gust</td>\n",
       "      <td>3.38</td>\n",
       "      <td>1.01</td>\n",
       "    </tr>\n",
       "    <tr>\n",
       "      <th>5</th>\n",
       "      <td>2</td>\n",
       "      <td>przeslanie</td>\n",
       "      <td>2.33</td>\n",
       "      <td>1.24</td>\n",
       "    </tr>\n",
       "    <tr>\n",
       "      <th>6</th>\n",
       "      <td>2</td>\n",
       "      <td>piekno</td>\n",
       "      <td>3.46</td>\n",
       "      <td>0.78</td>\n",
       "    </tr>\n",
       "    <tr>\n",
       "      <th>7</th>\n",
       "      <td>2</td>\n",
       "      <td>wartosc</td>\n",
       "      <td>2.38</td>\n",
       "      <td>1.13</td>\n",
       "    </tr>\n",
       "    <tr>\n",
       "      <th>8</th>\n",
       "      <td>3</td>\n",
       "      <td>gust</td>\n",
       "      <td>2.46</td>\n",
       "      <td>1.18</td>\n",
       "    </tr>\n",
       "    <tr>\n",
       "      <th>9</th>\n",
       "      <td>3</td>\n",
       "      <td>przeslanie</td>\n",
       "      <td>3.12</td>\n",
       "      <td>0.99</td>\n",
       "    </tr>\n",
       "    <tr>\n",
       "      <th>10</th>\n",
       "      <td>3</td>\n",
       "      <td>piekno</td>\n",
       "      <td>2.46</td>\n",
       "      <td>1.18</td>\n",
       "    </tr>\n",
       "    <tr>\n",
       "      <th>11</th>\n",
       "      <td>3</td>\n",
       "      <td>wartosc</td>\n",
       "      <td>2.79</td>\n",
       "      <td>0.93</td>\n",
       "    </tr>\n",
       "    <tr>\n",
       "      <th>12</th>\n",
       "      <td>4</td>\n",
       "      <td>gust</td>\n",
       "      <td>3.67</td>\n",
       "      <td>0.70</td>\n",
       "    </tr>\n",
       "    <tr>\n",
       "      <th>13</th>\n",
       "      <td>4</td>\n",
       "      <td>przeslanie</td>\n",
       "      <td>3.12</td>\n",
       "      <td>0.95</td>\n",
       "    </tr>\n",
       "    <tr>\n",
       "      <th>14</th>\n",
       "      <td>4</td>\n",
       "      <td>piekno</td>\n",
       "      <td>4.00</td>\n",
       "      <td>0.59</td>\n",
       "    </tr>\n",
       "    <tr>\n",
       "      <th>15</th>\n",
       "      <td>4</td>\n",
       "      <td>wartosc</td>\n",
       "      <td>3.04</td>\n",
       "      <td>0.91</td>\n",
       "    </tr>\n",
       "    <tr>\n",
       "      <th>16</th>\n",
       "      <td>5</td>\n",
       "      <td>gust</td>\n",
       "      <td>3.67</td>\n",
       "      <td>1.13</td>\n",
       "    </tr>\n",
       "    <tr>\n",
       "      <th>17</th>\n",
       "      <td>5</td>\n",
       "      <td>przeslanie</td>\n",
       "      <td>2.29</td>\n",
       "      <td>1.12</td>\n",
       "    </tr>\n",
       "    <tr>\n",
       "      <th>18</th>\n",
       "      <td>5</td>\n",
       "      <td>piekno</td>\n",
       "      <td>4.00</td>\n",
       "      <td>1.10</td>\n",
       "    </tr>\n",
       "    <tr>\n",
       "      <th>19</th>\n",
       "      <td>5</td>\n",
       "      <td>wartosc</td>\n",
       "      <td>3.29</td>\n",
       "      <td>1.23</td>\n",
       "    </tr>\n",
       "    <tr>\n",
       "      <th>20</th>\n",
       "      <td>6</td>\n",
       "      <td>gust</td>\n",
       "      <td>2.58</td>\n",
       "      <td>1.18</td>\n",
       "    </tr>\n",
       "    <tr>\n",
       "      <th>21</th>\n",
       "      <td>6</td>\n",
       "      <td>przeslanie</td>\n",
       "      <td>2.25</td>\n",
       "      <td>1.11</td>\n",
       "    </tr>\n",
       "    <tr>\n",
       "      <th>22</th>\n",
       "      <td>6</td>\n",
       "      <td>piekno</td>\n",
       "      <td>2.92</td>\n",
       "      <td>1.14</td>\n",
       "    </tr>\n",
       "    <tr>\n",
       "      <th>23</th>\n",
       "      <td>6</td>\n",
       "      <td>wartosc</td>\n",
       "      <td>2.46</td>\n",
       "      <td>0.88</td>\n",
       "    </tr>\n",
       "    <tr>\n",
       "      <th>24</th>\n",
       "      <td>7</td>\n",
       "      <td>gust</td>\n",
       "      <td>4.04</td>\n",
       "      <td>0.95</td>\n",
       "    </tr>\n",
       "    <tr>\n",
       "      <th>25</th>\n",
       "      <td>7</td>\n",
       "      <td>przeslanie</td>\n",
       "      <td>2.75</td>\n",
       "      <td>0.94</td>\n",
       "    </tr>\n",
       "    <tr>\n",
       "      <th>26</th>\n",
       "      <td>7</td>\n",
       "      <td>piekno</td>\n",
       "      <td>4.33</td>\n",
       "      <td>0.82</td>\n",
       "    </tr>\n",
       "    <tr>\n",
       "      <th>27</th>\n",
       "      <td>7</td>\n",
       "      <td>wartosc</td>\n",
       "      <td>3.25</td>\n",
       "      <td>0.68</td>\n",
       "    </tr>\n",
       "    <tr>\n",
       "      <th>28</th>\n",
       "      <td>8</td>\n",
       "      <td>gust</td>\n",
       "      <td>3.88</td>\n",
       "      <td>1.08</td>\n",
       "    </tr>\n",
       "    <tr>\n",
       "      <th>29</th>\n",
       "      <td>8</td>\n",
       "      <td>przeslanie</td>\n",
       "      <td>2.96</td>\n",
       "      <td>1.23</td>\n",
       "    </tr>\n",
       "    <tr>\n",
       "      <th>30</th>\n",
       "      <td>8</td>\n",
       "      <td>piekno</td>\n",
       "      <td>4.08</td>\n",
       "      <td>0.83</td>\n",
       "    </tr>\n",
       "    <tr>\n",
       "      <th>31</th>\n",
       "      <td>8</td>\n",
       "      <td>wartosc</td>\n",
       "      <td>2.71</td>\n",
       "      <td>1.30</td>\n",
       "    </tr>\n",
       "  </tbody>\n",
       "</table>\n",
       "</div>"
      ],
      "text/plain": [
       "    Obraz   Kategoria  Średnia    SD\n",
       "0       1        gust     3.46  0.72\n",
       "1       1  przeslanie     2.17  0.87\n",
       "2       1      piekno     3.42  0.83\n",
       "3       1     wartosc     2.88  0.95\n",
       "4       2        gust     3.38  1.01\n",
       "5       2  przeslanie     2.33  1.24\n",
       "6       2      piekno     3.46  0.78\n",
       "7       2     wartosc     2.38  1.13\n",
       "8       3        gust     2.46  1.18\n",
       "9       3  przeslanie     3.12  0.99\n",
       "10      3      piekno     2.46  1.18\n",
       "11      3     wartosc     2.79  0.93\n",
       "12      4        gust     3.67  0.70\n",
       "13      4  przeslanie     3.12  0.95\n",
       "14      4      piekno     4.00  0.59\n",
       "15      4     wartosc     3.04  0.91\n",
       "16      5        gust     3.67  1.13\n",
       "17      5  przeslanie     2.29  1.12\n",
       "18      5      piekno     4.00  1.10\n",
       "19      5     wartosc     3.29  1.23\n",
       "20      6        gust     2.58  1.18\n",
       "21      6  przeslanie     2.25  1.11\n",
       "22      6      piekno     2.92  1.14\n",
       "23      6     wartosc     2.46  0.88\n",
       "24      7        gust     4.04  0.95\n",
       "25      7  przeslanie     2.75  0.94\n",
       "26      7      piekno     4.33  0.82\n",
       "27      7     wartosc     3.25  0.68\n",
       "28      8        gust     3.88  1.08\n",
       "29      8  przeslanie     2.96  1.23\n",
       "30      8      piekno     4.08  0.83\n",
       "31      8     wartosc     2.71  1.30"
      ]
     },
     "execution_count": 17,
     "metadata": {},
     "output_type": "execute_result"
    }
   ],
   "source": [
    "kategorie = ['gust', 'przeslanie', 'piekno', 'wartosc']\n",
    "rows = []\n",
    "for i in range(1, 9):\n",
    "    for kat in kategorie:\n",
    "        col = f'obraz{i}_{kat}'\n",
    "        mean = df[col].mean()\n",
    "        std = df[col].std()\n",
    "        rows.append({'Obraz': i, 'Kategoria': kat, 'Średnia': round(mean, 2), 'SD': round(std, 2)})\n",
    "\n",
    "summary_df = pd.DataFrame(rows)\n",
    "summary_df"
   ]
  },
  {
   "cell_type": "code",
   "execution_count": 19,
   "id": "e2ff9a03-2082-4adc-97a4-a489701772bf",
   "metadata": {},
   "outputs": [
    {
     "name": "stdout",
     "output_type": "stream",
     "text": [
      "                 Zmienna                Podgrupa   n     %\n",
      "0                   Płeć                       m  12  50.0\n",
      "1                   Płeć                       k  12  50.0\n",
      "2   Miejsce zamieszkania  mieszkanie_wynajmowane   9  37.5\n",
      "3   Miejsce zamieszkania            dom_rodzinny   8  33.3\n",
      "4   Miejsce zamieszkania       mieszkanie_wlasne   3  12.5\n",
      "5   Miejsce zamieszkania                akademik   3  12.5\n",
      "6   Miejsce zamieszkania                    inne   1   4.2\n",
      "7       Znajomość sztuki             ograniczona  15  62.5\n",
      "8       Znajomość sztuki            hobbystyczna   5  20.8\n",
      "9       Znajomość sztuki                    brak   2   8.3\n",
      "10      Znajomość sztuki           profesjonalna   2   8.3\n"
     ]
    }
   ],
   "source": [
    "def podsumowanie_kolumny(df, kolumna, label=None):\n",
    "    counts = df[kolumna].value_counts().reset_index()\n",
    "    counts.columns = ['Podgrupa', 'n']\n",
    "    counts['%'] = (counts['n'] / len(df) * 100).round(1)\n",
    "    counts.insert(0, 'Zmienna', label if label else kolumna)\n",
    "    return counts\n",
    "\n",
    "# Tworzenie podsumowań dla każdej kolumny\n",
    "tabele = [podsumowanie_kolumny(df, 'plec', 'Płeć'),\n",
    "          podsumowanie_kolumny(df, 'miejsce_zamieszaknia', 'Miejsce zamieszkania'),\n",
    "          podsumowanie_kolumny(df, 'znajomosc_sztuki', 'Znajomość sztuki'),\n",
    "          podsumowanie_kolumny(df, 'sytuacja_materialna', 'Sytuacja materialna')]\n",
    "\n",
    "# Łączenie w jedną tabelę\n",
    "tabela_podsumowanie = pd.concat(tabele, ignore_index=True)\n",
    "\n",
    "# Wyświetlenie tabeli\n",
    "print(tabela_podsumowanie)"
   ]
  },
  {
   "cell_type": "code",
   "execution_count": null,
   "id": "9ffc9017-8025-471e-a97d-f480205a597e",
   "metadata": {},
   "outputs": [],
   "source": []
  }
 ],
 "metadata": {
  "kernelspec": {
   "display_name": "Python 3 (ipykernel)",
   "language": "python",
   "name": "python3"
  },
  "language_info": {
   "codemirror_mode": {
    "name": "ipython",
    "version": 3
   },
   "file_extension": ".py",
   "mimetype": "text/x-python",
   "name": "python",
   "nbconvert_exporter": "python",
   "pygments_lexer": "ipython3",
   "version": "3.13.0"
  }
 },
 "nbformat": 4,
 "nbformat_minor": 5
}
